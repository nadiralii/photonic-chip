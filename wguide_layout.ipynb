{
 "cells": [
  {
   "cell_type": "code",
   "execution_count": 1,
   "metadata": {},
   "outputs": [
    {
     "name": "stderr",
     "output_type": "stream",
     "text": [
      "\u001b[32m2023-08-19 21:48:51.346\u001b[0m | \u001b[33m\u001b[1mWARNING \u001b[0m | \u001b[36mgdsfactory.pdk\u001b[0m:\u001b[36mget_active_pdk\u001b[0m:\u001b[36m696\u001b[0m - \u001b[33m\u001b[1mNo active PDK. Activating generic PDK.\n",
      "\u001b[0m\n",
      "\u001b[32m2023-08-19 21:48:52.296\u001b[0m | \u001b[1mINFO    \u001b[0m | \u001b[36mgdsfactory.technology.layer_views\u001b[0m:\u001b[36m__init__\u001b[0m:\u001b[36m782\u001b[0m - \u001b[1mImporting LayerViews from YAML file: '/home/nadir/anaconda3/lib/python3.11/site-packages/gdsfactory/generic_tech/layer_views.yaml'.\u001b[0m\n",
      "\u001b[32m2023-08-19 21:48:52.324\u001b[0m | \u001b[1mINFO    \u001b[0m | \u001b[36mgdsfactory.pdk\u001b[0m:\u001b[36mactivate\u001b[0m:\u001b[36m316\u001b[0m - \u001b[1m'generic' PDK is now active\u001b[0m\n",
      "\u001b[32m2023-08-19 21:48:53.479\u001b[0m | \u001b[1mINFO    \u001b[0m | \u001b[36mgdsfactory.klive\u001b[0m:\u001b[36mshow\u001b[0m:\u001b[36m55\u001b[0m - \u001b[1mMessage from klive: {\"version\": \"0.2.2\", \"type\": \"reload\", \"file\": \"/tmp/gdsfactory/Wguide layout with variable length.gds\"}\u001b[0m\n",
      "\u001b[32m2023-08-19 21:48:53.595\u001b[0m | \u001b[1mINFO    \u001b[0m | \u001b[36mgdsfactory.klive\u001b[0m:\u001b[36mshow\u001b[0m:\u001b[36m55\u001b[0m - \u001b[1mMessage from klive: {\"version\": \"0.2.2\", \"type\": \"reload\", \"file\": \"/tmp/gdsfactory/Wguide layout with variable length.gds\"}\u001b[0m\n"
     ]
    },
    {
     "ename": "ModuleNotFoundError",
     "evalue": "No module named 'kweb'",
     "output_type": "error",
     "traceback": [
      "\u001b[0;31m---------------------------------------------------------------------------\u001b[0m",
      "\u001b[0;31mModuleNotFoundError\u001b[0m                       Traceback (most recent call last)",
      "File \u001b[0;32m~/anaconda3/lib/python3.11/site-packages/IPython/core/formatters.py:922\u001b[0m, in \u001b[0;36mIPythonDisplayFormatter.__call__\u001b[0;34m(self, obj)\u001b[0m\n\u001b[1;32m    920\u001b[0m method \u001b[39m=\u001b[39m get_real_method(obj, \u001b[39mself\u001b[39m\u001b[39m.\u001b[39mprint_method)\n\u001b[1;32m    921\u001b[0m \u001b[39mif\u001b[39;00m method \u001b[39mis\u001b[39;00m \u001b[39mnot\u001b[39;00m \u001b[39mNone\u001b[39;00m:\n\u001b[0;32m--> 922\u001b[0m     method()\n\u001b[1;32m    923\u001b[0m     \u001b[39mreturn\u001b[39;00m \u001b[39mTrue\u001b[39;00m\n",
      "File \u001b[0;32m~/anaconda3/lib/python3.11/site-packages/gdsfactory/component.py:1468\u001b[0m, in \u001b[0;36mComponent._ipython_display_\u001b[0;34m(self)\u001b[0m\n\u001b[1;32m   1466\u001b[0m \u001b[39m\u001b[39m\u001b[39m\"\"\"Show geometry in KLayout and in matplotlib for Jupyter Notebooks.\"\"\"\u001b[39;00m\n\u001b[1;32m   1467\u001b[0m \u001b[39mself\u001b[39m\u001b[39m.\u001b[39mshow(show_ports\u001b[39m=\u001b[39m\u001b[39mTrue\u001b[39;00m)  \u001b[39m# show in klayout\u001b[39;00m\n\u001b[0;32m-> 1468\u001b[0m \u001b[39mreturn\u001b[39;00m \u001b[39mself\u001b[39m\u001b[39m.\u001b[39mplot()\n",
      "File \u001b[0;32m~/anaconda3/lib/python3.11/site-packages/gdsfactory/component.py:1688\u001b[0m, in \u001b[0;36mComponent.plot\u001b[0;34m(self, plotter, **kwargs)\u001b[0m\n\u001b[1;32m   1686\u001b[0m     \u001b[39mreturn\u001b[39;00m\n\u001b[1;32m   1687\u001b[0m \u001b[39melif\u001b[39;00m plotter \u001b[39m==\u001b[39m \u001b[39m\"\u001b[39m\u001b[39mkweb\u001b[39m\u001b[39m\"\u001b[39m:\n\u001b[0;32m-> 1688\u001b[0m     \u001b[39mreturn\u001b[39;00m \u001b[39mself\u001b[39m\u001b[39m.\u001b[39mplot_kweb()\n\u001b[1;32m   1689\u001b[0m \u001b[39melif\u001b[39;00m plotter \u001b[39m==\u001b[39m \u001b[39m\"\u001b[39m\u001b[39mwidget\u001b[39m\u001b[39m\"\u001b[39m:\n\u001b[1;32m   1690\u001b[0m     \u001b[39mself\u001b[39m\u001b[39m.\u001b[39mplot_widget()\n",
      "File \u001b[0;32m~/anaconda3/lib/python3.11/site-packages/gdsfactory/component.py:1610\u001b[0m, in \u001b[0;36mComponent.plot_kweb\u001b[0;34m(self)\u001b[0m\n\u001b[1;32m   1607\u001b[0m \u001b[39mimport\u001b[39;00m \u001b[39mos\u001b[39;00m\n\u001b[1;32m   1608\u001b[0m \u001b[39mfrom\u001b[39;00m \u001b[39mhtml\u001b[39;00m \u001b[39mimport\u001b[39;00m escape\n\u001b[0;32m-> 1610\u001b[0m \u001b[39mimport\u001b[39;00m \u001b[39mkweb\u001b[39;00m\u001b[39m.\u001b[39;00m\u001b[39mserver_jupyter\u001b[39;00m \u001b[39mas\u001b[39;00m \u001b[39mkj\u001b[39;00m\n\u001b[1;32m   1611\u001b[0m \u001b[39mfrom\u001b[39;00m \u001b[39mIPython\u001b[39;00m\u001b[39m.\u001b[39;00m\u001b[39mdisplay\u001b[39;00m \u001b[39mimport\u001b[39;00m IFrame\n\u001b[1;32m   1613\u001b[0m \u001b[39mfrom\u001b[39;00m \u001b[39mgdsfactory\u001b[39;00m\u001b[39m.\u001b[39;00m\u001b[39mconfig\u001b[39;00m \u001b[39mimport\u001b[39;00m PATH\n",
      "\u001b[0;31mModuleNotFoundError\u001b[0m: No module named 'kweb'"
     ]
    },
    {
     "data": {
      "text/plain": [
       "Wguide layout with variable length: uid 5e6f42b2, ports [], references ['add_fiber_array_1', 'add_fiber_array_2', 'add_fiber_array_3', 'add_fiber_array_4', 'rectangle_1'], 0 polygons"
      ]
     },
     "execution_count": 1,
     "metadata": {},
     "output_type": "execute_result"
    }
   ],
   "source": [
    "import gdsfactory as gf \n",
    "import numpy as np\n",
    "import matplotlib.pyplot as plt\n",
    "\n",
    "def mywg(deltaL):\n",
    "    wg = gf.components.straight(length= deltaL)\n",
    "    wgwithgratingcoupler = gf.routing.add_fiber_array(component=wg, grating_coupler= gf.components.grating_coupler_te, with_loopback= False)\n",
    "    return wgwithgratingcoupler\n",
    "\n",
    "topcell = gf.Component(\"Wguide layout with variable length\")\n",
    "\n",
    "deltaL = [150, 200, 250, 300]\n",
    "\n",
    "Wguide = []\n",
    "\n",
    "floorplan = (800, 250)\n",
    "\n",
    "if __name__ == '__main__':\n",
    "    gf.clear_cache()\n",
    "\n",
    "    for i in range((len(deltaL))):\n",
    "         \n",
    "         Wguide.append(topcell << mywg(deltaL[i]))\n",
    "\n",
    "         if i < 2: \n",
    "             Wguide[i].movex(250*i)\n",
    "         else : \n",
    "             Wguide[i].movex(300*(i-2))\n",
    "             Wguide[i].movey(-120) \n",
    "\n",
    "floor = topcell << gf.components.rectangle(size = floorplan, name = 'Allowed Zone')\n",
    "floor.movex(-100)\n",
    "floor.movey(-220)\n",
    "topcell.show()\n",
    "topcell\n",
    "\n"
   ]
  }
 ],
 "metadata": {
  "kernelspec": {
   "display_name": "Python 3",
   "language": "python",
   "name": "python3"
  },
  "language_info": {
   "codemirror_mode": {
    "name": "ipython",
    "version": 3
   },
   "file_extension": ".py",
   "mimetype": "text/x-python",
   "name": "python",
   "nbconvert_exporter": "python",
   "pygments_lexer": "ipython3",
   "version": "3.11.4"
  },
  "orig_nbformat": 4
 },
 "nbformat": 4,
 "nbformat_minor": 2
}
