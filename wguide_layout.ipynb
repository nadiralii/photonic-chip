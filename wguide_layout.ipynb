{
 "cells": [
  {
   "cell_type": "code",
   "execution_count": 21,
   "metadata": {},
   "outputs": [
    {
     "data": {
      "application/vnd.jupyter.widget-view+json": {
       "model_id": "247ca2e9a03a42aea213ef127f3e4f9b",
       "version_major": 2,
       "version_minor": 0
      },
      "text/plain": [
       "Image(value=b'\\x89PNG\\r\\n\\x1a\\n\\x00\\x00\\x00\\rIHDR\\x00\\x00\\x03 \\x00\\x00\\x02X\\x08\\x02\\x00\\x00\\x00\\x15\\x14\\x15\\'\\…"
      ]
     },
     "metadata": {},
     "output_type": "display_data"
    },
    {
     "name": "stdout",
     "output_type": "stream",
     "text": [
      "Wguide layout with variable length: uid db9f80bb, ports [], references ['straight_1', 'straight_2', 'straight_3', 'straight_4', 'rectangle_1'], 0 polygons\n"
     ]
    }
   ],
   "source": [
    "import gdsfactory as gf \n",
    "import numpy as np\n",
    "import matplotlib.pyplot as plt\n",
    "\n",
    "def mywg(deltaL):\n",
    "    wg = gf.components.straight(length= deltaL)\n",
    "    # wgwithgratingcoupler = gf.components.add_grating_couplers_with_loopback_fiber_array(grating_coupler= gf.components.grating_coupler_te, component = wg, with_loopback= False, layer_label=(10,0))\n",
    "    return wg\n",
    "\n",
    "topcell = gf.Component(\"Wguide layout with variable length\")\n",
    "\n",
    "deltaL = [100, 150, 200, 250]\n",
    "\n",
    "Wguide = []\n",
    "\n",
    "floorplan = (200, 300)\n",
    "\n",
    "if __name__ == '__main__':\n",
    "    gf.clear_cache()\n",
    "\n",
    "    for i in range((len(deltaL))):\n",
    "         \n",
    "         Wguide.append(topcell << mywg(deltaL[i]))\n",
    "\n",
    "         if i < 2: \n",
    "             Wguide[i].movex(5*i)\n",
    "        \n",
    "         else:\n",
    "             Wguide[i].movex(100*i)    \n",
    "\n",
    "floor = topcell << gf.components.rectangle(size = floorplan, name = 'Allowed Zone')\n",
    "topcell.show()\n",
    "topcell\n",
    "\n"
   ]
  }
 ],
 "metadata": {
  "kernelspec": {
   "display_name": "Python 3",
   "language": "python",
   "name": "python3"
  },
  "language_info": {
   "codemirror_mode": {
    "name": "ipython",
    "version": 3
   },
   "file_extension": ".py",
   "mimetype": "text/x-python",
   "name": "python",
   "nbconvert_exporter": "python",
   "pygments_lexer": "ipython3",
   "version": "3.9.13"
  },
  "orig_nbformat": 4
 },
 "nbformat": 4,
 "nbformat_minor": 2
}
