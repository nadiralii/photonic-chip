{
 "cells": [
  {
   "cell_type": "code",
   "execution_count": 1,
   "metadata": {},
   "outputs": [
    {
     "name": "stderr",
     "output_type": "stream",
     "text": [
      "\u001b[32m2023-08-20 11:11:10.367\u001b[0m | \u001b[33m\u001b[1mWARNING \u001b[0m | \u001b[36mgdsfactory.pdk\u001b[0m:\u001b[36mget_active_pdk\u001b[0m:\u001b[36m696\u001b[0m - \u001b[33m\u001b[1mNo active PDK. Activating generic PDK.\n",
      "\u001b[0m\n",
      "\u001b[32m2023-08-20 11:11:22.830\u001b[0m | \u001b[1mINFO    \u001b[0m | \u001b[36mgdsfactory.technology.layer_views\u001b[0m:\u001b[36m__init__\u001b[0m:\u001b[36m782\u001b[0m - \u001b[1mImporting LayerViews from YAML file: '/home/nadir/anaconda3/lib/python3.11/site-packages/gdsfactory/generic_tech/layer_views.yaml'.\u001b[0m\n",
      "\u001b[32m2023-08-20 11:11:22.853\u001b[0m | \u001b[1mINFO    \u001b[0m | \u001b[36mgdsfactory.pdk\u001b[0m:\u001b[36mactivate\u001b[0m:\u001b[36m316\u001b[0m - \u001b[1m'generic' PDK is now active\u001b[0m\n",
      "\u001b[32m2023-08-20 11:11:24.374\u001b[0m | \u001b[1mINFO    \u001b[0m | \u001b[36mgdsfactory.klive\u001b[0m:\u001b[36mshow\u001b[0m:\u001b[36m55\u001b[0m - \u001b[1mMessage from klive: {\"version\": \"0.2.2\", \"type\": \"open\", \"file\": \"/tmp/gdsfactory/Wguide layout with variable length.gds\"}\u001b[0m\n",
      "\u001b[32m2023-08-20 11:11:24.977\u001b[0m | \u001b[1mINFO    \u001b[0m | \u001b[36mgdsfactory.klive\u001b[0m:\u001b[36mshow\u001b[0m:\u001b[36m55\u001b[0m - \u001b[1mMessage from klive: {\"version\": \"0.2.2\", \"type\": \"reload\", \"file\": \"/tmp/gdsfactory/Wguide layout with variable length.gds\"}\u001b[0m\n",
      "\u001b[32m2023-08-20 11:11:44.903\u001b[0m | \u001b[34m\u001b[1mDEBUG   \u001b[0m | \u001b[36mgdsfactory.component\u001b[0m:\u001b[36mplot_kweb\u001b[0m:\u001b[36m1636\u001b[0m - \u001b[34m\u001b[1mhttp://127.0.0.1:8000/gds?gds_file=/home/nadir/.gdsfactory/extra/Wguide layout with variable length.gds&layer_props=/tmp/gdsfactory/layers.lyp\u001b[0m\n"
     ]
    },
    {
     "name": "stderr",
     "output_type": "stream",
     "text": [
      "INFO:     Started server process [13858]\n",
      "INFO:     Waiting for application startup.\n",
      "INFO:     Application startup complete.\n",
      "INFO:     Uvicorn running on http://localhost:8000 (Press CTRL+C to quit)\n"
     ]
    }
   ],
   "source": [
    "import gdsfactory as gf \n",
    "import numpy as np\n",
    "import matplotlib.pyplot as plt\n",
    "\n",
    "def mywg(deltaL):\n",
    "    wg = gf.components.straight(length= deltaL)\n",
    "    wgwithgratingcoupler = gf.routing.add_fiber_array(component=wg, grating_coupler= gf.components.grating_coupler_te, with_loopback= False)\n",
    "    return wgwithgratingcoupler\n",
    "\n",
    "topcell = gf.Component(\"Wguide layout with variable length\")\n",
    "\n",
    "deltaL = [150, 200, 250, 300]\n",
    "\n",
    "Wguide = []\n",
    "\n",
    "floorplan = (800, 250)\n",
    "\n",
    "if __name__ == '__main__':\n",
    "    gf.clear_cache()\n",
    "\n",
    "    for i in range((len(deltaL))):\n",
    "         \n",
    "         Wguide.append(topcell << mywg(deltaL[i]))\n",
    "\n",
    "         if i < 2: \n",
    "             Wguide[i].movex(250*i)\n",
    "         else : \n",
    "             Wguide[i].movex(300*(i-2))\n",
    "             Wguide[i].movey(-120) \n",
    "\n",
    "floor = topcell << gf.components.rectangle(size = floorplan, name = 'Allowed Zone')\n",
    "floor.movex(-100)\n",
    "floor.movey(-220)\n",
    "topcell.show()\n",
    "topcell\n",
    "\n"
   ]
  }
 ],
 "metadata": {
  "kernelspec": {
   "display_name": "Python 3",
   "language": "python",
   "name": "python3"
  },
  "language_info": {
   "codemirror_mode": {
    "name": "ipython",
    "version": 3
   },
   "file_extension": ".py",
   "mimetype": "text/x-python",
   "name": "python",
   "nbconvert_exporter": "python",
   "pygments_lexer": "ipython3",
   "version": "3.11.4"
  },
  "orig_nbformat": 4
 },
 "nbformat": 4,
 "nbformat_minor": 2
}
